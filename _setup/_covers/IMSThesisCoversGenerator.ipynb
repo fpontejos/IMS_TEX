{
 "cells": [
  {
   "cell_type": "code",
   "execution_count": 1,
   "metadata": {},
   "outputs": [],
   "source": [
    "import json, os, yaml, subprocess"
   ]
  },
  {
   "cell_type": "code",
   "execution_count": 2,
   "metadata": {},
   "outputs": [],
   "source": [
    "\n",
    "\n",
    "def load_yaml_to_json(yaml_file_path):\n",
    "    with open(yaml_file_path, 'r') as file:\n",
    "        yaml_content = yaml.safe_load(file)\n",
    "    json_content = json.dumps(yaml_content, indent=4)\n",
    "    return json.loads(json_content)\n",
    "\n"
   ]
  },
  {
   "cell_type": "code",
   "execution_count": 3,
   "metadata": {},
   "outputs": [],
   "source": [
    "ims_enpt = load_yaml_to_json(\"ims_enpt.yaml\")"
   ]
  },
  {
   "cell_type": "code",
   "execution_count": 4,
   "metadata": {},
   "outputs": [],
   "source": [
    "ims_programs = [\"MDSAA\", \"MDDM\", \"MEGI\", \"MGI\"]\n",
    "ims_langs = [\"EN\", \"PT\"]"
   ]
  },
  {
   "cell_type": "code",
   "execution_count": null,
   "metadata": {},
   "outputs": [],
   "source": []
  },
  {
   "cell_type": "code",
   "execution_count": 5,
   "metadata": {},
   "outputs": [],
   "source": [
    "escaped_text = \"\"\"\n",
    "\\\\documentclass{{../imscover}}\n",
    "\n",
    "\\\\newcommand*{{\\\\paperprogramacronym}}{{{programacronym}}}\n",
    "\\\\newcommand*{{\\\\paperprogramfullname}}{{{programfullname}}}\n",
    "\\\\newcommand*{{\\\\papermsin}}{{{msin}}}\n",
    "\n",
    "\\\\begin{{document}}\n",
    "\n",
    "\\\\pagestyle{{plain}}\n",
    "\\\\imspagecover{{../../../_setup/_images/FrontCoverBGv2.png}}\n",
    "\n",
    "\\\\imspagecoverfooter\n",
    "\n",
    "\\\\end{{document}}\n",
    "\"\"\"\n",
    "\n",
    "generated_files = []\n",
    "\n",
    "for programacronym in ims_programs:\n",
    "    for langi in ims_langs:\n",
    "        msin = ims_enpt['PROGRAMS']['msin'][langi]\n",
    "        programfullname = ims_enpt['PROGRAMS'][programacronym][langi]\n",
    "        filename = f\"{programacronym}_{langi}_Cover.tex\"\n",
    "\n",
    "        generated_files.append(filename)\n",
    "\n",
    "        filepath = os.path.abspath(os.path.join(\"./\",\"_generated\",filename))\n",
    "        filecontents = escaped_text.format(\n",
    "            programacronym=programacronym,\n",
    "            programfullname=programfullname,\n",
    "            msin=msin\n",
    "            )\n",
    "\n",
    "\n",
    "        with open(filepath, 'w') as file:\n",
    "            file.write(filecontents)\n"
   ]
  },
  {
   "cell_type": "code",
   "execution_count": null,
   "metadata": {},
   "outputs": [],
   "source": [
    " \n"
   ]
  }
 ],
 "metadata": {
  "kernelspec": {
   "display_name": "DM2425",
   "language": "python",
   "name": "python3"
  },
  "language_info": {
   "codemirror_mode": {
    "name": "ipython",
    "version": 3
   },
   "file_extension": ".py",
   "mimetype": "text/x-python",
   "name": "python",
   "nbconvert_exporter": "python",
   "pygments_lexer": "ipython3",
   "version": "3.12.5"
  }
 },
 "nbformat": 4,
 "nbformat_minor": 2
}
